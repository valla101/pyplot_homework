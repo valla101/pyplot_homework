{
 "cells": [
  {
   "cell_type": "markdown",
   "metadata": {},
   "source": [
    "## Observations and Insights"
   ]
  },
  {
   "cell_type": "markdown",
   "metadata": {},
   "source": []
  },
  {
   "cell_type": "markdown",
   "metadata": {},
   "source": [
    "## Dependencies and starter code"
   ]
  },
  {
   "cell_type": "code",
   "execution_count": 1,
   "metadata": {},
   "outputs": [
    {
     "data": {
      "text/html": [
       "<div>\n",
       "<style scoped>\n",
       "    .dataframe tbody tr th:only-of-type {\n",
       "        vertical-align: middle;\n",
       "    }\n",
       "\n",
       "    .dataframe tbody tr th {\n",
       "        vertical-align: top;\n",
       "    }\n",
       "\n",
       "    .dataframe thead th {\n",
       "        text-align: right;\n",
       "    }\n",
       "</style>\n",
       "<table border=\"1\" class=\"dataframe\">\n",
       "  <thead>\n",
       "    <tr style=\"text-align: right;\">\n",
       "      <th></th>\n",
       "      <th>Mouse ID</th>\n",
       "      <th>Drug Regimen</th>\n",
       "      <th>Sex</th>\n",
       "      <th>Age_months</th>\n",
       "      <th>Weight (g)</th>\n",
       "      <th>Timepoint</th>\n",
       "      <th>Tumor Volume (mm3)</th>\n",
       "      <th>Metastatic Sites</th>\n",
       "    </tr>\n",
       "  </thead>\n",
       "  <tbody>\n",
       "    <tr>\n",
       "      <td>0</td>\n",
       "      <td>k403</td>\n",
       "      <td>Ramicane</td>\n",
       "      <td>Male</td>\n",
       "      <td>21</td>\n",
       "      <td>16</td>\n",
       "      <td>0</td>\n",
       "      <td>45.000000</td>\n",
       "      <td>0</td>\n",
       "    </tr>\n",
       "    <tr>\n",
       "      <td>1</td>\n",
       "      <td>k403</td>\n",
       "      <td>Ramicane</td>\n",
       "      <td>Male</td>\n",
       "      <td>21</td>\n",
       "      <td>16</td>\n",
       "      <td>5</td>\n",
       "      <td>38.825898</td>\n",
       "      <td>0</td>\n",
       "    </tr>\n",
       "    <tr>\n",
       "      <td>2</td>\n",
       "      <td>k403</td>\n",
       "      <td>Ramicane</td>\n",
       "      <td>Male</td>\n",
       "      <td>21</td>\n",
       "      <td>16</td>\n",
       "      <td>10</td>\n",
       "      <td>35.014271</td>\n",
       "      <td>1</td>\n",
       "    </tr>\n",
       "    <tr>\n",
       "      <td>3</td>\n",
       "      <td>k403</td>\n",
       "      <td>Ramicane</td>\n",
       "      <td>Male</td>\n",
       "      <td>21</td>\n",
       "      <td>16</td>\n",
       "      <td>15</td>\n",
       "      <td>34.223992</td>\n",
       "      <td>1</td>\n",
       "    </tr>\n",
       "    <tr>\n",
       "      <td>4</td>\n",
       "      <td>k403</td>\n",
       "      <td>Ramicane</td>\n",
       "      <td>Male</td>\n",
       "      <td>21</td>\n",
       "      <td>16</td>\n",
       "      <td>20</td>\n",
       "      <td>32.997729</td>\n",
       "      <td>1</td>\n",
       "    </tr>\n",
       "    <tr>\n",
       "      <td>...</td>\n",
       "      <td>...</td>\n",
       "      <td>...</td>\n",
       "      <td>...</td>\n",
       "      <td>...</td>\n",
       "      <td>...</td>\n",
       "      <td>...</td>\n",
       "      <td>...</td>\n",
       "      <td>...</td>\n",
       "    </tr>\n",
       "    <tr>\n",
       "      <td>1888</td>\n",
       "      <td>z969</td>\n",
       "      <td>Naftisol</td>\n",
       "      <td>Male</td>\n",
       "      <td>9</td>\n",
       "      <td>30</td>\n",
       "      <td>25</td>\n",
       "      <td>63.145652</td>\n",
       "      <td>2</td>\n",
       "    </tr>\n",
       "    <tr>\n",
       "      <td>1889</td>\n",
       "      <td>z969</td>\n",
       "      <td>Naftisol</td>\n",
       "      <td>Male</td>\n",
       "      <td>9</td>\n",
       "      <td>30</td>\n",
       "      <td>30</td>\n",
       "      <td>65.841013</td>\n",
       "      <td>3</td>\n",
       "    </tr>\n",
       "    <tr>\n",
       "      <td>1890</td>\n",
       "      <td>z969</td>\n",
       "      <td>Naftisol</td>\n",
       "      <td>Male</td>\n",
       "      <td>9</td>\n",
       "      <td>30</td>\n",
       "      <td>35</td>\n",
       "      <td>69.176246</td>\n",
       "      <td>4</td>\n",
       "    </tr>\n",
       "    <tr>\n",
       "      <td>1891</td>\n",
       "      <td>z969</td>\n",
       "      <td>Naftisol</td>\n",
       "      <td>Male</td>\n",
       "      <td>9</td>\n",
       "      <td>30</td>\n",
       "      <td>40</td>\n",
       "      <td>70.314904</td>\n",
       "      <td>4</td>\n",
       "    </tr>\n",
       "    <tr>\n",
       "      <td>1892</td>\n",
       "      <td>z969</td>\n",
       "      <td>Naftisol</td>\n",
       "      <td>Male</td>\n",
       "      <td>9</td>\n",
       "      <td>30</td>\n",
       "      <td>45</td>\n",
       "      <td>73.867845</td>\n",
       "      <td>4</td>\n",
       "    </tr>\n",
       "  </tbody>\n",
       "</table>\n",
       "<p>1893 rows × 8 columns</p>\n",
       "</div>"
      ],
      "text/plain": [
       "     Mouse ID Drug Regimen   Sex  Age_months  Weight (g)  Timepoint  \\\n",
       "0        k403     Ramicane  Male          21          16          0   \n",
       "1        k403     Ramicane  Male          21          16          5   \n",
       "2        k403     Ramicane  Male          21          16         10   \n",
       "3        k403     Ramicane  Male          21          16         15   \n",
       "4        k403     Ramicane  Male          21          16         20   \n",
       "...       ...          ...   ...         ...         ...        ...   \n",
       "1888     z969     Naftisol  Male           9          30         25   \n",
       "1889     z969     Naftisol  Male           9          30         30   \n",
       "1890     z969     Naftisol  Male           9          30         35   \n",
       "1891     z969     Naftisol  Male           9          30         40   \n",
       "1892     z969     Naftisol  Male           9          30         45   \n",
       "\n",
       "      Tumor Volume (mm3)  Metastatic Sites  \n",
       "0              45.000000                 0  \n",
       "1              38.825898                 0  \n",
       "2              35.014271                 1  \n",
       "3              34.223992                 1  \n",
       "4              32.997729                 1  \n",
       "...                  ...               ...  \n",
       "1888           63.145652                 2  \n",
       "1889           65.841013                 3  \n",
       "1890           69.176246                 4  \n",
       "1891           70.314904                 4  \n",
       "1892           73.867845                 4  \n",
       "\n",
       "[1893 rows x 8 columns]"
      ]
     },
     "execution_count": 1,
     "metadata": {},
     "output_type": "execute_result"
    }
   ],
   "source": [
    "# Dependencies and Setup\n",
    "import matplotlib.pyplot as plt\n",
    "import pandas as pd\n",
    "import scipy.stats as st\n",
    "import numpy as np\n",
    "\n",
    "# Study data files\n",
    "mouse_metadata = \"data/Mouse_metadata.csv\"\n",
    "study_results = \"data/Study_results.csv\"\n",
    "\n",
    "# Read the mouse data and the study results\n",
    "mouse_metadata = pd.read_csv(mouse_metadata)\n",
    "study_results = pd.read_csv(study_results)\n",
    "\n",
    "# Combine the data into a single dataset\n",
    "combined_df = pd.merge(mouse_metadata,study_results, how = 'outer')\n",
    "combined_df"
   ]
  },
  {
   "cell_type": "markdown",
   "metadata": {},
   "source": [
    "## Summary statistics"
   ]
  },
  {
   "cell_type": "code",
   "execution_count": 2,
   "metadata": {},
   "outputs": [
    {
     "data": {
      "text/html": [
       "<div>\n",
       "<style scoped>\n",
       "    .dataframe tbody tr th:only-of-type {\n",
       "        vertical-align: middle;\n",
       "    }\n",
       "\n",
       "    .dataframe tbody tr th {\n",
       "        vertical-align: top;\n",
       "    }\n",
       "\n",
       "    .dataframe thead th {\n",
       "        text-align: right;\n",
       "    }\n",
       "</style>\n",
       "<table border=\"1\" class=\"dataframe\">\n",
       "  <thead>\n",
       "    <tr style=\"text-align: right;\">\n",
       "      <th></th>\n",
       "      <th>Tumor Volume (mm3) Mean</th>\n",
       "      <th>Tumor Volume (mm3) Median</th>\n",
       "      <th>Tumor Volume (mm3) Variance</th>\n",
       "      <th>Tumor Volume (mm3) Standard Deviation</th>\n",
       "      <th>Tumor Volume (mm3) Standard Error</th>\n",
       "    </tr>\n",
       "    <tr>\n",
       "      <th>Drug Regimen</th>\n",
       "      <th></th>\n",
       "      <th></th>\n",
       "      <th></th>\n",
       "      <th></th>\n",
       "      <th></th>\n",
       "    </tr>\n",
       "  </thead>\n",
       "  <tbody>\n",
       "    <tr>\n",
       "      <td>Ramicane</td>\n",
       "      <td>40.216745</td>\n",
       "      <td>40.673236</td>\n",
       "      <td>23.486704</td>\n",
       "      <td>4.846308</td>\n",
       "      <td>0.320955</td>\n",
       "    </tr>\n",
       "    <tr>\n",
       "      <td>Capomulin</td>\n",
       "      <td>40.675741</td>\n",
       "      <td>41.557809</td>\n",
       "      <td>24.947764</td>\n",
       "      <td>4.994774</td>\n",
       "      <td>0.329346</td>\n",
       "    </tr>\n",
       "    <tr>\n",
       "      <td>Propriva</td>\n",
       "      <td>52.322552</td>\n",
       "      <td>50.854632</td>\n",
       "      <td>42.351070</td>\n",
       "      <td>6.507770</td>\n",
       "      <td>0.512884</td>\n",
       "    </tr>\n",
       "    <tr>\n",
       "      <td>Ceftamin</td>\n",
       "      <td>52.591172</td>\n",
       "      <td>51.776157</td>\n",
       "      <td>39.290177</td>\n",
       "      <td>6.268188</td>\n",
       "      <td>0.469821</td>\n",
       "    </tr>\n",
       "    <tr>\n",
       "      <td>Infubinol</td>\n",
       "      <td>52.884795</td>\n",
       "      <td>51.820584</td>\n",
       "      <td>43.128684</td>\n",
       "      <td>6.567243</td>\n",
       "      <td>0.492236</td>\n",
       "    </tr>\n",
       "    <tr>\n",
       "      <td>Zoniferol</td>\n",
       "      <td>53.236507</td>\n",
       "      <td>51.818479</td>\n",
       "      <td>48.533355</td>\n",
       "      <td>6.966589</td>\n",
       "      <td>0.516398</td>\n",
       "    </tr>\n",
       "    <tr>\n",
       "      <td>Placebo</td>\n",
       "      <td>54.033581</td>\n",
       "      <td>52.288934</td>\n",
       "      <td>61.168083</td>\n",
       "      <td>7.821003</td>\n",
       "      <td>0.581331</td>\n",
       "    </tr>\n",
       "    <tr>\n",
       "      <td>Stelasyn</td>\n",
       "      <td>54.233149</td>\n",
       "      <td>52.431737</td>\n",
       "      <td>59.450562</td>\n",
       "      <td>7.710419</td>\n",
       "      <td>0.573111</td>\n",
       "    </tr>\n",
       "    <tr>\n",
       "      <td>Naftisol</td>\n",
       "      <td>54.331565</td>\n",
       "      <td>52.509285</td>\n",
       "      <td>66.173479</td>\n",
       "      <td>8.134708</td>\n",
       "      <td>0.596466</td>\n",
       "    </tr>\n",
       "    <tr>\n",
       "      <td>Ketapril</td>\n",
       "      <td>55.235638</td>\n",
       "      <td>53.698743</td>\n",
       "      <td>68.553577</td>\n",
       "      <td>8.279709</td>\n",
       "      <td>0.603860</td>\n",
       "    </tr>\n",
       "  </tbody>\n",
       "</table>\n",
       "</div>"
      ],
      "text/plain": [
       "              Tumor Volume (mm3) Mean  Tumor Volume (mm3) Median  \\\n",
       "Drug Regimen                                                       \n",
       "Ramicane                    40.216745                  40.673236   \n",
       "Capomulin                   40.675741                  41.557809   \n",
       "Propriva                    52.322552                  50.854632   \n",
       "Ceftamin                    52.591172                  51.776157   \n",
       "Infubinol                   52.884795                  51.820584   \n",
       "Zoniferol                   53.236507                  51.818479   \n",
       "Placebo                     54.033581                  52.288934   \n",
       "Stelasyn                    54.233149                  52.431737   \n",
       "Naftisol                    54.331565                  52.509285   \n",
       "Ketapril                    55.235638                  53.698743   \n",
       "\n",
       "              Tumor Volume (mm3) Variance  \\\n",
       "Drug Regimen                                \n",
       "Ramicane                        23.486704   \n",
       "Capomulin                       24.947764   \n",
       "Propriva                        42.351070   \n",
       "Ceftamin                        39.290177   \n",
       "Infubinol                       43.128684   \n",
       "Zoniferol                       48.533355   \n",
       "Placebo                         61.168083   \n",
       "Stelasyn                        59.450562   \n",
       "Naftisol                        66.173479   \n",
       "Ketapril                        68.553577   \n",
       "\n",
       "              Tumor Volume (mm3) Standard Deviation  \\\n",
       "Drug Regimen                                          \n",
       "Ramicane                                   4.846308   \n",
       "Capomulin                                  4.994774   \n",
       "Propriva                                   6.507770   \n",
       "Ceftamin                                   6.268188   \n",
       "Infubinol                                  6.567243   \n",
       "Zoniferol                                  6.966589   \n",
       "Placebo                                    7.821003   \n",
       "Stelasyn                                   7.710419   \n",
       "Naftisol                                   8.134708   \n",
       "Ketapril                                   8.279709   \n",
       "\n",
       "              Tumor Volume (mm3) Standard Error  \n",
       "Drug Regimen                                     \n",
       "Ramicane                               0.320955  \n",
       "Capomulin                              0.329346  \n",
       "Propriva                               0.512884  \n",
       "Ceftamin                               0.469821  \n",
       "Infubinol                              0.492236  \n",
       "Zoniferol                              0.516398  \n",
       "Placebo                                0.581331  \n",
       "Stelasyn                               0.573111  \n",
       "Naftisol                               0.596466  \n",
       "Ketapril                               0.603860  "
      ]
     },
     "execution_count": 2,
     "metadata": {},
     "output_type": "execute_result"
    }
   ],
   "source": [
    "# Generate a summary statistics table of mean, median, variance, standard deviation, and SEM of the tumor volume for each regimen\n",
    "\n",
    "#Dropping irrelavant data\n",
    "test_df = combined_df.drop([\"Sex\",\"Age_months\", \"Metastatic Sites\",\"Weight (g)\",\"Timepoint\"],axis = 1)\n",
    "# Grouping DataFrame by Drug Regimen and extracting average\n",
    "regimen_groupby_df = test_df.groupby([\"Drug Regimen\"])\n",
    "mean_df = regimen_groupby_df.mean()\n",
    "\n",
    "#Calculating median for the groupby DataFrame and creating a new DataFrame for Median\n",
    "tumor_groupby_median = regimen_groupby_df[\"Tumor Volume (mm3)\"].median()\n",
    "tumor_groupby_median_df = pd.DataFrame({\"Tumor Volume (mm3) Median\":tumor_groupby_median})\n",
    "\n",
    "#Calculating variance for the groupby DataFrame and creating a new DataFrame for Variance\n",
    "tumor_groupby_variance = regimen_groupby_df[\"Tumor Volume (mm3)\"].var()\n",
    "tumor_groupby_variance_df = pd.DataFrame({\"Tumor Volume (mm3) Variance\":tumor_groupby_variance})\n",
    "\n",
    "# #Calculating Standard Deviation for the groupby DataFrame and creating a new DataFrame for Standard Deviation\n",
    "tumor_groupby_stdev = regimen_groupby_df[\"Tumor Volume (mm3)\"].std()\n",
    "tumor_groupby_stdev_df = pd.DataFrame({\"Tumor Volume (mm3) Standard Deviation\":tumor_groupby_stdev})\n",
    "\n",
    "tumor_groupby_sem = regimen_groupby_df[\"Tumor Volume (mm3)\"].sem()\n",
    "tumor_groupby_sem_df = pd.DataFrame({\"Tumor Volume (mm3) Standard Error\":tumor_groupby_sem})\n",
    "\n",
    "# Appending newly created Data Frames to mean_df\n",
    "mean_df[\"Tumor Volume (mm3) Median\"] = tumor_groupby_median_df\n",
    "mean_df[\"Tumor Volume (mm3) Variance\"] = tumor_groupby_variance_df\n",
    "mean_df[\"Tumor Volume (mm3) Standard Deviation\"] = tumor_groupby_stdev_df\n",
    "mean_df[\"Tumor Volume (mm3) Standard Error\"] = tumor_groupby_sem_df\n",
    "\n",
    "mean_df.rename(columns={\"Tumor Volume (mm3)\":\"Tumor Volume (mm3) Mean\"},inplace = True)\n",
    "mean_df_sort = mean_df.sort_values([\"Tumor Volume (mm3) Mean\"], ascending = True)\n",
    "mean_df_sort\n"
   ]
  },
  {
   "cell_type": "markdown",
   "metadata": {},
   "source": [
    "## Bar plots"
   ]
  },
  {
   "cell_type": "code",
   "execution_count": 3,
   "metadata": {
    "scrolled": true
   },
   "outputs": [
    {
     "data": {
      "text/plain": [
       "Text(0.5, 1.0, 'Tests Conducted per Drug Regimen')"
      ]
     },
     "execution_count": 3,
     "metadata": {},
     "output_type": "execute_result"
    },
    {
     "data": {
      "image/png": "[encoded data removed]",
      "text/plain": [
       "<Figure size 1440x720 with 1 Axes>"
      ]
     },
     "metadata": {
      "needs_background": "light"
     },
     "output_type": "display_data"
    }
   ],
   "source": [
    "# Generate a bar plot showing number of data points for each treatment regimen using pandas\n",
    "\n",
    "regimen_groupby_df = combined_df.groupby([\"Drug Regimen\"])\n",
    "describe_df = regimen_groupby_df[\"Tumor Volume (mm3)\"].describe()\n",
    "\n",
    "# Pandas can also plot multiple columns if the DataFrame includes them\n",
    "drug_regimen_df_plot = describe_df[\"count\"].plot(kind=\"bar\", figsize=(20,10))\n",
    "\n",
    "# PandasPlot.set_xticklabels() can be used to set the tick labels as well\n",
    "drug_regimen_df_plot.set_xticklabels(combined_df[\"Drug Regimen\"].unique(), rotation=0)\n",
    "plt.title(\"Tests Conducted per Drug Regimen\")"
   ]
  },
  {
   "cell_type": "code",
   "execution_count": 4,
   "metadata": {},
   "outputs": [
    {
     "data": {
      "text/plain": [
       "Text(0.5, 1.0, 'Tests Conducted per Drug Regimen')"
      ]
     },
     "execution_count": 4,
     "metadata": {},
     "output_type": "execute_result"
    },
    {
     "data": {
      "image/png": "[encoded data removed]",
      "text/plain": [
       "<Figure size 432x288 with 1 Axes>"
      ]
     },
     "metadata": {
      "needs_background": "light"
     },
     "output_type": "display_data"
    }
   ],
   "source": [
    "# Generate a bar plot showing number of data points for each treatment regimen using pyplot\n",
    "\n",
    "#describe_df[\"count\"] will grab the number of data points for each treatment regimen\n",
    "plt.bar(combined_df[\"Drug Regimen\"].unique(), describe_df[\"count\"], width = 0.5, color='black', alpha = 0.9, align=\"center\")\n",
    "plt.xlabel(\"Drug Regimen\")\n",
    "plt.ylabel(\"Number of Tests\")\n",
    "plt.xticks(combined_df[\"Drug Regimen\"].unique(),rotation = \"vertical\")\n",
    "plt.title(\"Tests Conducted per Drug Regimen\")\n"
   ]
  },
  {
   "cell_type": "markdown",
   "metadata": {},
   "source": [
    "## Pie plots"
   ]
  },
  {
   "cell_type": "code",
   "execution_count": 5,
   "metadata": {},
   "outputs": [
    {
     "data": {
      "text/plain": [
       "array([<matplotlib.axes._subplots.AxesSubplot object at 0x0000020CEA759988>],\n",
       "      dtype=object)"
      ]
     },
     "execution_count": 5,
     "metadata": {},
     "output_type": "execute_result"
    },
    {
     "data": {
      "image/png": "[encoded data removed]",
      "text/plain": [
       "<Figure size 1440x720 with 1 Axes>"
      ]
     },
     "metadata": {},
     "output_type": "display_data"
    }
   ],
   "source": [
    "# Generate a pie plot showing the distribution of female versus male mice using pandas\n",
    "mice_gender_df = combined_df.drop(columns =[\"Age_months\", \"Metastatic Sites\",\"Weight (g)\",\"Timepoint\",\"Drug Regimen\",\"Tumor Volume (mm3)\"])\n",
    "\n",
    "gender_groupby_df = mice_gender_df.groupby([\"Sex\"])\n",
    "gender_groupby_df_2 = gender_groupby_df.count()\n",
    "gender_groupby_df_2.plot(kind = 'pie', label = [\"Sex\"],figsize=(20,10), subplots = True )"
   ]
  },
  {
   "cell_type": "code",
   "execution_count": 6,
   "metadata": {},
   "outputs": [
    {
     "data": {
      "text/plain": [
       "([<matplotlib.patches.Wedge at 0x20cea92f048>,\n",
       "  <matplotlib.patches.Wedge at 0x20cea92fb88>],\n",
       " [Text(-1.0997996703027118, -0.020992503472585362, 'Male'),\n",
       "  Text(1.0997996703027118, 0.020992503472585713, 'Female')],\n",
       " [Text(-0.5998907292560246, -0.011450456439592015, '50.6%'),\n",
       "  Text(0.5998907292560246, 0.011450456439592206, '49.4%')])"
      ]
     },
     "execution_count": 6,
     "metadata": {},
     "output_type": "execute_result"
    },
    {
     "data": {
      "image/png": "[encoded data removed]",
      "text/plain": [
       "<Figure size 432x288 with 1 Axes>"
      ]
     },
     "metadata": {},
     "output_type": "display_data"
    }
   ],
   "source": [
    "# Generate a pie plot showing the distribution of female versus male mice using pyplot\n",
    "\n",
    "plt.pie(combined_df[\"Sex\"].value_counts(), labels = combined_df[\"Sex\"].unique(),autopct=\"%1.1f%%\",startangle = 90)"
   ]
  },
  {
   "cell_type": "markdown",
   "metadata": {},
   "source": [
    "## Quartiles, outliers and boxplots"
   ]
  },
  {
   "cell_type": "code",
   "execution_count": 7,
   "metadata": {
    "scrolled": true
   },
   "outputs": [],
   "source": [
    "#  Calculate the final tumor volume of each mouse across four of the most promising treatment regimens. Calculate the IQR and quantitatively determine if there are any potential outliers.\n",
    "\n",
    "# Creating a new dataframe so that we can extract the max volume from each mouse\n",
    "\n",
    "test_4 = combined_df.groupby([\"Mouse ID\"])[\"Timepoint\"].max()\n",
    "test_4_df = pd.DataFrame(test_4)\n",
    "\n",
    "row_numbers = len(test_4_df.index)\n",
    "\n",
    "# Initializing a new list that will retrieve values from a loc statement\n",
    "tumor_volumes = []\n",
    "drug_regimen = []\n",
    "\n",
    "# For loop to go through every row and retrieve the timepoint for each mouse ID for test_4_df\n",
    "for x in range(0, row_numbers):\n",
    "    id_mice = test_4_df.iloc[x].name\n",
    "    timepoint_final = test_4_df.iloc[x].values[0]\n",
    "    tumor_volumes.append(combined_df.loc[(combined_df[\"Mouse ID\"] == id_mice) & (combined_df[\"Timepoint\"] == timepoint_final), \"Tumor Volume (mm3)\"].values[0])\n",
    "    drug_regimen.append(combined_df.loc[(combined_df[\"Mouse ID\"] == id_mice) & (combined_df[\"Timepoint\"] == timepoint_final) , \"Drug Regimen\"].values[0])\n",
    "    \n",
    "test_4_df[\"Max Tumor Volume by Mice\"] = tumor_volumes\n",
    "test_4_df[\"Treatment Drug\"] = drug_regimen\n",
    "# test_4_df.head(50)"
   ]
  },
  {
   "cell_type": "code",
   "execution_count": 8,
   "metadata": {},
   "outputs": [
    {
     "data": {
      "image/png": "[encoded data removed]",
      "text/plain": [
       "<Figure size 432x288 with 1 Axes>"
      ]
     },
     "metadata": {
      "needs_background": "light"
     },
     "output_type": "display_data"
    }
   ],
   "source": [
    "# Generate a box plot of the final tumor volume of each mouse across four regimens of interest\n",
    "\n",
    "# Create loc functions to find Tumor Volumes for each Drug Regimen\n",
    "\n",
    "final_tum_vol_ramicane = test_4_df.loc[test_4_df[\"Treatment Drug\"] == \"Ramicane\",\"Max Tumor Volume by Mice\"].values\n",
    "# print(len(final_tum_vol_ramicane))\n",
    "# print(final_tum_vol_ramicane)\n",
    "\n",
    "final_tum_vol_capomulin = test_4_df.loc[test_4_df[\"Treatment Drug\"] == \"Capomulin\",\"Max Tumor Volume by Mice\"].values\n",
    "# print(len(final_tum_vol_capomulin))\n",
    "# print(final_tum_vol_capomulin)\n",
    "\n",
    "final_tum_vol_ceftamin = test_4_df.loc[test_4_df[\"Treatment Drug\"] == \"Ceftamin\",\"Max Tumor Volume by Mice\"].values\n",
    "# print(len(final_tum_vol_ceftamin))\n",
    "# print(final_tum_vol_ceftamin)\n",
    "\n",
    "final_tum_vol_infubinol = test_4_df.loc[test_4_df[\"Treatment Drug\"] == \"Infubinol\",\"Max Tumor Volume by Mice\"].values\n",
    "# print(len(final_tum_vol_infubinol))\n",
    "# print(final_tum_vol_infubinol)\n",
    "\n",
    "\n",
    "fig1, ax1 = plt.subplots()\n",
    "ax1.set_title(\"Reaction of Tumors Based on Drug Regimen\")\n",
    "ax1.set_ylabel('Final Tumor Volume (mm3)')\n",
    "ax1.set_xticklabels([\"Ramicane\",\"Capomulin\",\"Ceftamin\",\"Infubinol\"])\n",
    "# ax1.set_xticklabels?\n",
    "data = [final_tum_vol_ramicane,final_tum_vol_capomulin,final_tum_vol_ceftamin,final_tum_vol_infubinol]\n",
    "\n",
    "ax1.boxplot(data)\n",
    "plt.show()"
   ]
  },
  {
   "cell_type": "code",
   "execution_count": 9,
   "metadata": {},
   "outputs": [
    {
     "name": "stdout",
     "output_type": "stream",
     "text": [
      "The IQR for the final tumor volumes treated with Ramicane is 9.099\n",
      "The IQR for the final tumor volumes treated with Capomulin is 7.782\n",
      "The IQR for the final tumor volumes treated with Ceftamin is 15.578\n",
      "The IQR for the final tumor volumes treated with Infubinol is 11.477\n"
     ]
    }
   ],
   "source": [
    "# Creating data frame for sample sizes of Final Tumor Volume max per mouse. This will be used for calculating IQR\n",
    "sample_sizes_df = pd.DataFrame({\"Ramicane\":final_tum_vol_ramicane,\"Capomulin\":final_tum_vol_capomulin,\n",
    "                               \"Ceftamin\":final_tum_vol_ceftamin, \"Infubinol\":final_tum_vol_infubinol}) \n",
    "\n",
    "ramicane_quartiles = sample_sizes_df[\"Ramicane\"].quantile([.25,.5,.75])\n",
    "ram_q1 = (ramicane_quartiles.values[0])\n",
    "ram_q2 = (ramicane_quartiles.values[1])\n",
    "ram_q3 = (ramicane_quartiles.values[2])\n",
    "ram_iqr = ram_q3 - ram_q1\n",
    "\n",
    "capumolin_quartiles = sample_sizes_df[\"Capomulin\"].quantile([.25,.5,.75])\n",
    "cap_q1 = (capumolin_quartiles.values[0])\n",
    "cap_q2 = (capumolin_quartiles.values[1])\n",
    "cap_q3 = (capumolin_quartiles.values[2])\n",
    "cap_iqr = cap_q3 - cap_q1\n",
    "\n",
    "ceftamin_quartiles = sample_sizes_df[\"Ceftamin\"].quantile([.25,.5,.75])\n",
    "ceft_q1 = (ceftamin_quartiles.values[0])\n",
    "ceft_q2 = (ceftamin_quartiles.values[1])\n",
    "ceft_q3 = (ceftamin_quartiles.values[2])\n",
    "ceft_iqr = ceft_q3 - ceft_q1\n",
    "\n",
    "infubinol_quartiles = sample_sizes_df[\"Infubinol\"].quantile([.25,.5,.75])\n",
    "inf_q1 = (infubinol_quartiles.values[0])\n",
    "inf_q2 = (infubinol_quartiles.values[1])\n",
    "inf_q3 = (infubinol_quartiles.values[2])\n",
    "inf_iqr = inf_q3 - inf_q1\n",
    "# print(ceft_iqr)\n",
    "print(f'The IQR for the final tumor volumes treated with Ramicane is {(round(ram_iqr,3))}')\n",
    "print(f'The IQR for the final tumor volumes treated with Capomulin is {(round(cap_iqr,3))}')\n",
    "print(f'The IQR for the final tumor volumes treated with Ceftamin is {(round(ceft_iqr,3))}')\n",
    "print(f'The IQR for the final tumor volumes treated with Infubinol is {(round(inf_iqr,3))}')"
   ]
  },
  {
   "cell_type": "markdown",
   "metadata": {},
   "source": [
    "## Line and scatter plots"
   ]
  },
  {
   "cell_type": "code",
   "execution_count": 10,
   "metadata": {},
   "outputs": [
    {
     "data": {
      "text/plain": [
       "Text(0.5, 0, 'Time')"
      ]
     },
     "execution_count": 10,
     "metadata": {},
     "output_type": "execute_result"
    },
    {
     "data": {
      "image/png": "[encoded data removed]",
      "text/plain": [
       "<Figure size 432x288 with 1 Axes>"
      ]
     },
     "metadata": {
      "needs_background": "light"
     },
     "output_type": "display_data"
    }
   ],
   "source": [
    "# Generate a line plot of time point versus tumor volume for a mouse treated with Capomulin\n",
    "\n",
    "\n",
    "#Loc Function to isolate all mice that have been treated with Capomulin\n",
    "line_2_df = combined_df.loc[combined_df[\"Drug Regimen\"] == \"Capomulin\", (\"Timepoint\", \"Mouse ID\", \"Tumor Volume (mm3)\")]\n",
    "\n",
    "#From line_2_df we isolate one particular mouse = s185\n",
    "line_2_df_mouse_loc = line_2_df.loc[line_2_df[\"Mouse ID\"] == \"s185\", (\"Timepoint\", \"Tumor Volume (mm3)\")]\n",
    "line_2_df_mouse_loc\n",
    "\n",
    "#define a new variable. isolate timepoint as x value\n",
    "line_x_vals = line_2_df_mouse_loc[\"Timepoint\"].values\n",
    "#define a new variable. isolate tumor volume as y value\n",
    "line_y_vals = line_2_df_mouse_loc[\"Tumor Volume (mm3)\"].values\n",
    "\n",
    "\n",
    "plt.plot(line_x_vals,line_y_vals)\n",
    "\n",
    "# plt.x_label(\"Timepoint Values\")\n",
    "plt.title(\"Tumor Volume for S185 as Time Progresses\")\n",
    "plt.ylabel(\"Tumor Volume (mm3)\")\n",
    "plt.xlabel(\"Time\")"
   ]
  },
  {
   "cell_type": "code",
   "execution_count": 11,
   "metadata": {},
   "outputs": [
    {
     "data": {
      "text/plain": [
       "Text(0.5, 0, 'Average Tumor Weight (g) per Mice')"
      ]
     },
     "execution_count": 11,
     "metadata": {},
     "output_type": "execute_result"
    },
    {
     "data": {
      "image/png": "[encoded data removed]",
      "text/plain": [
       "<Figure size 432x288 with 1 Axes>"
      ]
     },
     "metadata": {
      "needs_background": "light"
     },
     "output_type": "display_data"
    }
   ],
   "source": [
    "# Generate a scatter plot of mouse weight versus average tumor volume for the Capomulin regimen\n",
    "\n",
    "#Using Loc Function to isolate all Capomulin treated Mice\n",
    "scatter_df = combined_df.loc[combined_df[\"Drug Regimen\"] == \"Capomulin\", \n",
    "                             (\"Mouse ID\", \"Tumor Volume (mm3)\",\"Timepoint\",\"Weight (g)\")]\n",
    "#Defining Groupby Mouse ID DataFrame\n",
    "scatter_df_groupby = scatter_df.groupby([\"Mouse ID\"])\n",
    "mean_values_df = scatter_df_groupby.mean()\n",
    "\n",
    "#Taking the Mean of Tumor Volume & Weight of Tumor grouped by Mouse ID\n",
    "mean_tumor_vol_cap = mean_values_df[\"Tumor Volume (mm3)\"].values\n",
    "mean_weight_of_tumor_cap = mean_values_df[\"Weight (g)\"].values\n",
    "\n",
    "#Creating Scatter Plot\n",
    "plt.scatter(mean_weight_of_tumor_cap,mean_tumor_vol_cap)\n",
    "plt.ylabel(\"Average Tumor Volume (mm3) per Mice\")\n",
    "plt.title(\"Capomulin Treated Tumors on Mice: Average Weight (g) vs Average Tumor Volume(mm3)\")\n",
    "plt.xlim((mean_weight_of_tumor_cap.min() -1),(mean_weight_of_tumor_cap.max() + 1))\n",
    "plt.xlabel(\"Average Tumor Weight (g) per Mice\")"
   ]
  },
  {
   "cell_type": "code",
   "execution_count": 12,
   "metadata": {},
   "outputs": [
    {
     "data": {
      "text/plain": [
       "Text(0.5, 0, 'Average Tumor Weight (g) per Mice')"
      ]
     },
     "execution_count": 12,
     "metadata": {},
     "output_type": "execute_result"
    },
    {
     "data": {
      "image/png": "[encoded data removed]",
      "text/plain": [
       "<Figure size 432x288 with 1 Axes>"
      ]
     },
     "metadata": {
      "needs_background": "light"
     },
     "output_type": "display_data"
    }
   ],
   "source": [
    "# Calculate the correlation coefficient and linear regression model for mouse weight and average tumor volume for the Capomulin regimen\n",
    "#Creating Scatter Plot\n",
    "plt.scatter(mean_weight_of_tumor_cap,mean_tumor_vol_cap)\n",
    "plt.ylabel(\"Average Tumor Volume (mm3) per Mice\")\n",
    "plt.title(\"Capomulin Treated Tumors on Mice: Average Weight (g) vs Average Tumor Volume(mm3)\")\n",
    "plt.xlim((mean_weight_of_tumor_cap.min() -1),(mean_weight_of_tumor_cap.max() + 1))\n",
    "plt.xlabel(\"Average Tumor Weight (g) per Mice\")"
   ]
  },
  {
   "cell_type": "code",
   "execution_count": 21,
   "metadata": {},
   "outputs": [
    {
     "name": "stdout",
     "output_type": "stream",
     "text": [
      "The correlation coefficient between Weight of Tumor and Tumor Volume is 0.84\n",
      "y = 0.95x + 21.55\n"
     ]
    },
    {
     "data": {
      "image/png": "[encoded data removed]",
      "text/plain": [
       "<Figure size 432x288 with 1 Axes>"
      ]
     },
     "metadata": {
      "needs_background": "light"
     },
     "output_type": "display_data"
    }
   ],
   "source": [
    "#Creating Scatter Plot\n",
    "plt.scatter(mean_weight_of_tumor_cap,mean_tumor_vol_cap)\n",
    "plt.ylabel(\"Average Tumor Volume (mm3) per Mice\")\n",
    "plt.title(\"Capomulin Treated Tumors on Mice: Average Weight (g) vs Average Tumor Volume(mm3)\")\n",
    "plt.xlim((mean_weight_of_tumor_cap.min() -1),(mean_weight_of_tumor_cap.max() + 1))\n",
    "plt.xlabel(\"Average Tumor Weight (g) per Mice\")\n",
    "\n",
    "slope_scat, intercept, rval, pval, stderr =st.linregress(mean_weight_of_tumor_cap,\n",
    "                                                         mean_tumor_vol_cap)\n",
    "# y = mx +b\n",
    "linear_reg = (slope_scat * mean_weight_of_tumor_cap) + intercept\n",
    "plt.plot(mean_weight_of_tumor_cap,linear_reg, \"-\")\n",
    "print(f\"The correlation coefficient between Weight of Tumor and Tumor Volume is {round(st.pearsonr(mean_weight_of_tumor_cap,mean_tumor_vol_cap)[0],2)}\")\n",
    "\n",
    "line_print = \"y = \" + str(round(slope_scat,2)) + \"x + \" +str(round(intercept,2))\n",
    "plt.annotate(line_print,(0,0),fontsize=10,color=\"red\")\n",
    "print(line_print)\n",
    "plt.show()"
   ]
  }
 ],
 "metadata": {
  "anaconda-cloud": {},
  "kernelspec": {
   "display_name": "Python 3",
   "language": "python",
   "name": "python3"
  },
  "language_info": {
   "codemirror_mode": {
    "name": "ipython",
    "version": 3
   },
   "file_extension": ".py",
   "mimetype": "text/x-python",
   "name": "python",
   "nbconvert_exporter": "python",
   "pygments_lexer": "ipython3",
   "version": "3.7.4"
  }
 },
 "nbformat": 4,
 "nbformat_minor": 2
}
